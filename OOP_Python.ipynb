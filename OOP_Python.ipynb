{
 "cells": [
  {
   "cell_type": "markdown",
   "id": "7343df96",
   "metadata": {},
   "source": [
    "<img src=\"oop1.png\" width=600 height=600 />\n",
    "<img src=\"oop5.png\" width=600 height=600 />\n",
    "<img src=\"oop6.png\" width=600 height=600 />\n",
    "<img src=\"oop7.png\" width=600 height=600 />\n",
    "<img src=\"oop8.png\" width=600 height=600 />\n",
    "<img src=\"oop9.png\" width=600 height=600 />\n",
    "<img src=\"oop10.png\" width=600 height=600 />\n",
    "<img src=\"oop11.png\" width=600 height=600 />\n"
   ]
  },
  {
   "cell_type": "markdown",
   "id": "12eaac7f",
   "metadata": {},
   "source": [
    "#### Basic Class Definition\n",
    "\n",
    "One can optionally add parantheses after class name but they are only really required if one is going to indicate that the class inherits from another class.\n",
    "\n",
    "__init__() is called to intialize the new object with information. And it is called before any other functions. Some people call it constructor function but it is wrong because the object is already created. It is more appropriate to call it initializer. It initializes attributes."
   ]
  },
  {
   "cell_type": "code",
   "execution_count": 1,
   "id": "8250970f",
   "metadata": {},
   "outputs": [],
   "source": [
    "# create a basic class\n",
    "\n",
    "class Book:\n",
    "    pass\n",
    "\n",
    "# create instance of the class\n",
    "\n",
    "b1 = Book()\n"
   ]
  },
  {
   "cell_type": "code",
   "execution_count": 2,
   "id": "49233fa5",
   "metadata": {},
   "outputs": [],
   "source": [
    "class book:\n",
    "    def __init__(self, title):\n",
    "        self.title = title\n",
    "        \n",
    "b1 = book('Brave new world')\n",
    "b2 = book('War and peace')"
   ]
  },
  {
   "cell_type": "code",
   "execution_count": 3,
   "id": "56f2c134",
   "metadata": {},
   "outputs": [
    {
     "name": "stdout",
     "output_type": "stream",
     "text": [
      "<__main__.book object at 0x7fdd200c8af0>\n",
      "Brave new world\n",
      "War and peace\n"
     ]
    }
   ],
   "source": [
    "print(b1)\n",
    "print(b1.title)\n",
    "print(b2.title)"
   ]
  },
  {
   "cell_type": "markdown",
   "id": "0d083428",
   "metadata": {},
   "source": [
    "#### Create instance methods and attributes for our class\n",
    "\n",
    "We are not limited to creating instance attributes just within the init function. We can do it else where in the object as well.\n",
    "\n",
    "We can have underscore '\\_' before attribute name such as self.\\_discount. The reason for this is to give other developers who use this class a hint that this attribute is considered internal to the class and should not be accessed from outside the class's logic. The underscore in the name basically tells other programmers: hey, this attribute can't be relied on to stay this name so don't use it in your code.\n",
    "\n",
    "once an attribute is defined, one can use it anywhere in the class. It is possible that we use attribute in an functional defined earlier than the attribute itself.\n",
    "\n",
    "```\n",
    "The hasattr() function returns True if the specified object has the specified attribute, otherwise False.\n",
    "\n",
    "class Person:\n",
    "  name = \"John\"\n",
    "  age = 36\n",
    "  country = \"Norway\"\n",
    "\n",
    "x = hasattr(Person, 'age')\n",
    "\n",
    "```\n",
    "\n",
    "if one uses a double underscore \\__ at the start of an attribute or method name, then the python interpreter will change the name of that attribute or method so that other classes (sub classes) will get an error if they try to access it.\n",
    "\n"
   ]
  },
  {
   "cell_type": "code",
   "execution_count": 4,
   "id": "156d58c0",
   "metadata": {},
   "outputs": [],
   "source": [
    "class book:\n",
    "    def __init__(self, title, author, pages, price):  #instance method\n",
    "        self.title = title\n",
    "        # add more instace attributes\n",
    "        self.author = author\n",
    "        self.pages = pages\n",
    "        self.price = price\n",
    "        self.__secret = \"this is a secret attribute.\"\n",
    "        \n",
    "    # create another instance method\n",
    "    def getprice(self):\n",
    "        if hasattr(self, \"_discount\"):    # The hasattr() function returns True if the specified object has the specified attribute, otherwise False.\n",
    "            return self.price - (self.price * self._discount)\n",
    "        else:\n",
    "            return self.price\n",
    "    \n",
    "    # create discount instance method\n",
    "    def setdiscount(self, amount):\n",
    "        self._discount = amount\n",
    "        \n",
    "        \n",
    "b1 = book('Brave new world', 'JD', 234, 29.95 )\n",
    "b2 = book('War and peace', 'LT', 1225, 39.95)"
   ]
  },
  {
   "cell_type": "code",
   "execution_count": 5,
   "id": "3d781b13",
   "metadata": {},
   "outputs": [
    {
     "name": "stdout",
     "output_type": "stream",
     "text": [
      "price before discount 29.95\n",
      "price after discount 39.95\n"
     ]
    }
   ],
   "source": [
    "print('price before discount', b1.getprice())\n",
    "b1.setdiscount(0.30)   # discount in percent\n",
    "print('price after discount', b2.getprice())"
   ]
  },
  {
   "cell_type": "code",
   "execution_count": 6,
   "id": "f5aaa501",
   "metadata": {},
   "outputs": [
    {
     "name": "stdout",
     "output_type": "stream",
     "text": [
      "0.3\n"
     ]
    }
   ],
   "source": [
    "print(b1._discount)"
   ]
  },
  {
   "cell_type": "code",
   "execution_count": 7,
   "id": "baea356f",
   "metadata": {},
   "outputs": [
    {
     "name": "stdout",
     "output_type": "stream",
     "text": [
      "this is a secret attribute.\n"
     ]
    }
   ],
   "source": [
    "print(b1._book__secret)"
   ]
  },
  {
   "cell_type": "code",
   "execution_count": 8,
   "id": "daa6a794",
   "metadata": {
    "scrolled": true
   },
   "outputs": [],
   "source": [
    "#print(b1.__secret) # it will produce an error because of __"
   ]
  },
  {
   "cell_type": "markdown",
   "id": "75f7f7a9",
   "metadata": {},
   "source": [
    "#### Checking instance types\n",
    "\n",
    "To see if a given object is an instance of a particular clas, use isinstance() function.\n",
    "\n",
    "__In python everything is a subclass of object class.__"
   ]
  },
  {
   "cell_type": "code",
   "execution_count": 9,
   "id": "846cc991",
   "metadata": {},
   "outputs": [],
   "source": [
    "class book:\n",
    "    def __init__(self, title):\n",
    "        self.title = title\n",
    "        \n",
    "class newspaper:\n",
    "    def __init__(self, name):\n",
    "        self.name = name\n"
   ]
  },
  {
   "cell_type": "code",
   "execution_count": 10,
   "id": "f81a3037",
   "metadata": {},
   "outputs": [],
   "source": [
    "# create some instances of the class\n",
    "\n",
    "b1 = book('The book')\n",
    "b2 = book('another book')\n",
    "n1 = newspaper('newspaper 1')\n",
    "n2 = newspaper('newspaper 2')"
   ]
  },
  {
   "cell_type": "code",
   "execution_count": 11,
   "id": "f7fcc9d4",
   "metadata": {},
   "outputs": [
    {
     "name": "stdout",
     "output_type": "stream",
     "text": [
      "<class '__main__.book'>\n",
      "<class '__main__.book'>\n",
      "<class '__main__.newspaper'>\n",
      "<class '__main__.newspaper'>\n"
     ]
    }
   ],
   "source": [
    "# use type() to inspect the object type \n",
    "print(type(b1))\n",
    "print(type(b2))\n",
    "print(type(n1))\n",
    "print(type(n2))"
   ]
  },
  {
   "cell_type": "code",
   "execution_count": 12,
   "id": "3f5befea",
   "metadata": {},
   "outputs": [
    {
     "name": "stdout",
     "output_type": "stream",
     "text": [
      "True\n",
      "False\n"
     ]
    }
   ],
   "source": [
    "# compare two types together\n",
    "print(type(b1) == type(b2))\n",
    "print(type(b1) == type(n2))"
   ]
  },
  {
   "cell_type": "code",
   "execution_count": 13,
   "id": "530c342f",
   "metadata": {},
   "outputs": [
    {
     "name": "stdout",
     "output_type": "stream",
     "text": [
      "True\n",
      "False\n",
      "True\n",
      "True\n",
      "True\n"
     ]
    }
   ],
   "source": [
    "# use isinstance()\n",
    "\n",
    "print(isinstance(b1, book))\n",
    "print(isinstance(n1, book))\n",
    "print(isinstance(n1, newspaper))\n",
    "print(isinstance(b1, object))\n",
    "print(isinstance(n1, object))"
   ]
  },
  {
   "cell_type": "markdown",
   "id": "2c668a20",
   "metadata": {},
   "source": [
    "#### Two more kinds of methods and attributes\n",
    "\n",
    "Previously we talked about instance level method (work on specific object). Now we will talk about two more kinds of methods.\n",
    "\n",
    "1: __Class level methods__ (work on class level)\n",
    "\n",
    "Here the focus is on class level methods and attributes.\n",
    "class level methods and attributes are different from instance level methods and attributes because they are shared at the class level across all instances of that class.\n",
    "\n",
    "2: __Statics methods__\n",
    "\n",
    "Instance method work on specific objects. Class methods work on entire class. Static methods are different as they don't modify the class state of either the class or a specific object instance.\n",
    "\n",
    "Static methods are useful for scenarios where you don't need to access any propoerties of a particular object or the class itself but where it makes sense for the method to belong to the class. In other words, it's a good way of name spacing certain kinds of methods. Whereas you might in another way create a global function. This is a way of taking a global function and just putting it in the classes namespace.  \n",
    "\n",
    "So one good example of static method is to implement a singleton design pattern. this pattern makes sure that only one instance of a particular variable or object is ever created."
   ]
  },
  {
   "cell_type": "code",
   "execution_count": 14,
   "id": "e7498f62",
   "metadata": {},
   "outputs": [],
   "source": [
    "class book:\n",
    "    \n",
    "    book_types = ('hardcover', 'paperback', 'ebook')\n",
    "\n",
    "    # double underscore properties are hidden from other classes \n",
    "    \n",
    "    __booklist = None\n",
    "    \n",
    "    # create a class method \n",
    "    @classmethod                # to create a class method use @classmethod decorator\n",
    "    def getbooktypes(cls):      # it takes class name as an argument by default. \n",
    "        return cls.book_types\n",
    "        \n",
    "    # create a static method\n",
    "    @staticmethod\n",
    "    def getbooklist():\n",
    "        if book.__booklist == None:\n",
    "            book.__booklist = []\n",
    "        return book.__booklist\n",
    "            \n",
    "    \n",
    "    \n",
    "    \n",
    "    def __init__(self, title, book_type):\n",
    "        self.title = title\n",
    "        if (not book_type in book.book_types):\n",
    "            raise ValueError(f'{book_type} is not a valid book type')\n",
    "        else:\n",
    "            self.book_type = book_type\n",
    "        \n",
    "class newspaper:\n",
    "    def __init__(self, name):\n",
    "        self.name = name"
   ]
  },
  {
   "cell_type": "code",
   "execution_count": 15,
   "id": "3ecc8c3c",
   "metadata": {},
   "outputs": [
    {
     "name": "stdout",
     "output_type": "stream",
     "text": [
      "('hardcover', 'paperback', 'ebook')\n"
     ]
    }
   ],
   "source": [
    "print(book.getbooktypes())"
   ]
  },
  {
   "cell_type": "code",
   "execution_count": 16,
   "id": "c93845bd",
   "metadata": {},
   "outputs": [],
   "source": [
    "b1 = book(\"title 1\", \"hardcover\")"
   ]
  },
  {
   "cell_type": "code",
   "execution_count": 17,
   "id": "39b1beb4",
   "metadata": {},
   "outputs": [],
   "source": [
    "#b2 = book(\"title 2\", \"comic\")"
   ]
  },
  {
   "cell_type": "code",
   "execution_count": 18,
   "id": "6c607aca",
   "metadata": {},
   "outputs": [],
   "source": [
    "b3 = book(\"title 2\", \"paperback\")"
   ]
  },
  {
   "cell_type": "code",
   "execution_count": 19,
   "id": "53663843",
   "metadata": {},
   "outputs": [],
   "source": [
    "thebooks = book.getbooklist()"
   ]
  },
  {
   "cell_type": "code",
   "execution_count": 20,
   "id": "498a0f0b",
   "metadata": {},
   "outputs": [
    {
     "name": "stdout",
     "output_type": "stream",
     "text": [
      "[]\n"
     ]
    }
   ],
   "source": [
    "print(thebooks)"
   ]
  },
  {
   "cell_type": "code",
   "execution_count": 21,
   "id": "eadf662f",
   "metadata": {},
   "outputs": [
    {
     "data": {
      "text/plain": [
       "list"
      ]
     },
     "execution_count": 21,
     "metadata": {},
     "output_type": "execute_result"
    }
   ],
   "source": [
    "type(thebooks)"
   ]
  },
  {
   "cell_type": "code",
   "execution_count": 22,
   "id": "e281521f",
   "metadata": {},
   "outputs": [],
   "source": [
    "thebooks.append(b1)\n",
    "thebooks.append(b2)"
   ]
  },
  {
   "cell_type": "code",
   "execution_count": 23,
   "id": "f7bcea5a",
   "metadata": {},
   "outputs": [
    {
     "name": "stdout",
     "output_type": "stream",
     "text": [
      "[<__main__.book object at 0x7fdd18f4d6d0>, <__main__.book object at 0x7fdd18f16070>]\n"
     ]
    }
   ],
   "source": [
    "print(thebooks)"
   ]
  },
  {
   "cell_type": "markdown",
   "id": "c7432d68",
   "metadata": {},
   "source": [
    "## Inhertiance"
   ]
  },
  {
   "cell_type": "code",
   "execution_count": 24,
   "id": "4b1837ec",
   "metadata": {},
   "outputs": [],
   "source": [
    "# title and price attributes are common to all classes below\n",
    "\n",
    "class book:\n",
    "    def __init__(self, title, author, pages, price):\n",
    "        self.title = title\n",
    "        self.author = author\n",
    "        self.pages = pages\n",
    "        self.price = price\n",
    "        \n",
    "class magazine:\n",
    "    def __init__(self, title, publisher, price, period):\n",
    "        self.title = title\n",
    "        self.publisher = publisher\n",
    "        self.period = period\n",
    "        self.price = price\n",
    "        \n",
    "class newspaper:\n",
    "    def __init__(self, title, publisher, price, period):\n",
    "        self.title = title\n",
    "        self.publisher = publisher\n",
    "        self.period = period\n",
    "        self.price = price\n",
    "\n",
    "        \n",
    "b1 = book('brave new world', 'AH', 311, 29.0)\n",
    "n1 = newspaper('ny times', 'nytc', 6.0, 'Daily')\n",
    "m1 = magazine('nature', 'springer', 5, 'Monthly')"
   ]
  },
  {
   "cell_type": "code",
   "execution_count": 25,
   "id": "4f1d678e",
   "metadata": {},
   "outputs": [
    {
     "name": "stdout",
     "output_type": "stream",
     "text": [
      "AH\n",
      "6.0\n",
      "nature\n"
     ]
    }
   ],
   "source": [
    "print(b1.author)\n",
    "print(n1.price)\n",
    "print(m1.title)"
   ]
  },
  {
   "cell_type": "markdown",
   "id": "54e06f78",
   "metadata": {},
   "source": [
    "#### Below mentioned is a class hierarchy with publicaiton at the top (baseclass) and book and periodical inherits from that. magazine and newspaper further inherit from periodical (another baseclass)."
   ]
  },
  {
   "cell_type": "code",
   "execution_count": 26,
   "id": "cdd5d048",
   "metadata": {},
   "outputs": [],
   "source": [
    "class publication:                            # publication is base class\n",
    "    def __init__(self, title, price):\n",
    "        self.title = title\n",
    "        self.price = price\n",
    "\n",
    "class periodical(publication):                            # another baseclass\n",
    "    def __init__(self, title, price, period, publisher):\n",
    "        super().__init__(title, price)\n",
    "        self.period = period\n",
    "        self.publisher = publisher\n",
    "\n",
    "# title and price attributes are common to all classes below\n",
    "\n",
    "class book(publication):\n",
    "    def __init__(self, title, author, pages, price):\n",
    "        super().__init__(title, price)\n",
    "        self.pages = pages\n",
    "        self.author = author\n",
    "        \n",
    "class magazine(periodical):\n",
    "    def __init__(self, title, publisher, price, period):\n",
    "        super().__init__(title, price, period, publisher)\n",
    "        \n",
    "        \n",
    "class newspaper(periodical):\n",
    "    def __init__(self, title, publisher, price, period):\n",
    "        super().__init__(title, price, period, publisher)\n",
    "\n",
    "\n",
    "        \n",
    "b1 = book('brave new world', 'AH', 311, 29.0)\n",
    "n1 = newspaper('ny times', 'nytc', 6.0, 'Daily')\n",
    "m1 = magazine('nature', 'springer', 5, 'Monthly')"
   ]
  },
  {
   "cell_type": "code",
   "execution_count": 27,
   "id": "bb584d6a",
   "metadata": {},
   "outputs": [
    {
     "name": "stdout",
     "output_type": "stream",
     "text": [
      "AH\n",
      "6.0\n",
      "springer\n"
     ]
    }
   ],
   "source": [
    "print(b1.author)\n",
    "print(n1.price)\n",
    "print(m1.publisher)"
   ]
  },
  {
   "cell_type": "markdown",
   "id": "a5237f79",
   "metadata": {},
   "source": [
    "#### Abstract base class\n",
    "\n",
    "A pattern programming where you want to provide a base class that defines a template for other classes to inherit from, but a couple of twists.\n",
    "\n",
    "first, you don't want consumers of your base class to be able to create instances of the base class itself because it's just intended to be a blueprint. it's just an idea and you want subclasses to provide concrete implementations of that idea.\n",
    "\n",
    "second, you want to enforce the constraint that there are certain methods in the base class that subclasses have to implement.\n",
    "\n",
    "This is where abstract base classes is really useful."
   ]
  },
  {
   "cell_type": "code",
   "execution_count": 28,
   "id": "4e14d498",
   "metadata": {},
   "outputs": [],
   "source": [
    "# with out abstract class\n",
    "\n",
    "class graphic_shape:\n",
    "    def __init__(self):\n",
    "        super().__init__()\n",
    "        \n",
    "    def calcArea(self):\n",
    "        pass\n",
    "    \n",
    "class circle(graphic_shape):\n",
    "    def __init__(self, radius):\n",
    "        self.radius = radius\n",
    "        \n",
    "class square(graphic_shape):\n",
    "    def __init__(self, side):\n",
    "        self.side = side"
   ]
  },
  {
   "cell_type": "code",
   "execution_count": 29,
   "id": "55815741",
   "metadata": {},
   "outputs": [
    {
     "name": "stdout",
     "output_type": "stream",
     "text": [
      "None\n",
      "None\n"
     ]
    }
   ],
   "source": [
    "g = graphic_shape()\n",
    "\n",
    "c = circle(10)\n",
    "print(c.calcArea())\n",
    "\n",
    "s = square(12)\n",
    "print(s.calcArea())"
   ]
  },
  {
   "cell_type": "code",
   "execution_count": 30,
   "id": "c4dfbade",
   "metadata": {},
   "outputs": [],
   "source": [
    "# with abstract class\n",
    "\n",
    "from abc import ABC, abstractmethod\n",
    "\n",
    "class graphic_shape(ABC):  # ABC stands for abstract base class\n",
    "    def __init__(self):\n",
    "        super().__init__()\n",
    "    \n",
    "    @abstractmethod  # we use @abstractmethod decorator to indicate that the calcArea function is an abstract method. \n",
    "    # this tell Python that there is no implementation in the base class and each subclass has to override this method. \n",
    "    def calcArea(self):\n",
    "        pass\n",
    "    \n",
    "class circle(graphic_shape):\n",
    "    def __init__(self, radius):\n",
    "        self.radius = radius\n",
    "        \n",
    "class square(graphic_shape):\n",
    "    def __init__(self, side):\n",
    "        self.side = side"
   ]
  },
  {
   "cell_type": "code",
   "execution_count": 31,
   "id": "fdc36afb",
   "metadata": {
    "scrolled": true
   },
   "outputs": [
    {
     "ename": "TypeError",
     "evalue": "Can't instantiate abstract class graphic_shape with abstract methods calcArea",
     "output_type": "error",
     "traceback": [
      "\u001b[0;31m---------------------------------------------------------------------------\u001b[0m",
      "\u001b[0;31mTypeError\u001b[0m                                 Traceback (most recent call last)",
      "\u001b[0;32m<ipython-input-31-b5ef3371096a>\u001b[0m in \u001b[0;36m<module>\u001b[0;34m\u001b[0m\n\u001b[0;32m----> 1\u001b[0;31m \u001b[0mg\u001b[0m \u001b[0;34m=\u001b[0m \u001b[0mgraphic_shape\u001b[0m\u001b[0;34m(\u001b[0m\u001b[0;34m)\u001b[0m\u001b[0;34m\u001b[0m\u001b[0;34m\u001b[0m\u001b[0m\n\u001b[0m",
      "\u001b[0;31mTypeError\u001b[0m: Can't instantiate abstract class graphic_shape with abstract methods calcArea"
     ]
    }
   ],
   "source": [
    "g = graphic_shape()"
   ]
  },
  {
   "cell_type": "code",
   "execution_count": 32,
   "id": "5985d76f",
   "metadata": {},
   "outputs": [
    {
     "ename": "TypeError",
     "evalue": "Can't instantiate abstract class circle with abstract methods calcArea",
     "output_type": "error",
     "traceback": [
      "\u001b[0;31m---------------------------------------------------------------------------\u001b[0m",
      "\u001b[0;31mTypeError\u001b[0m                                 Traceback (most recent call last)",
      "\u001b[0;32m<ipython-input-32-c3d92d18e604>\u001b[0m in \u001b[0;36m<module>\u001b[0;34m\u001b[0m\n\u001b[0;32m----> 1\u001b[0;31m \u001b[0mc\u001b[0m \u001b[0;34m=\u001b[0m \u001b[0mcircle\u001b[0m\u001b[0;34m(\u001b[0m\u001b[0;36m10\u001b[0m\u001b[0;34m)\u001b[0m\u001b[0;34m\u001b[0m\u001b[0;34m\u001b[0m\u001b[0m\n\u001b[0m\u001b[1;32m      2\u001b[0m \u001b[0mprint\u001b[0m\u001b[0;34m(\u001b[0m\u001b[0mc\u001b[0m\u001b[0;34m.\u001b[0m\u001b[0mcalcArea\u001b[0m\u001b[0;34m(\u001b[0m\u001b[0;34m)\u001b[0m\u001b[0;34m)\u001b[0m\u001b[0;34m\u001b[0m\u001b[0;34m\u001b[0m\u001b[0m\n\u001b[1;32m      3\u001b[0m \u001b[0;34m\u001b[0m\u001b[0m\n\u001b[1;32m      4\u001b[0m \u001b[0ms\u001b[0m \u001b[0;34m=\u001b[0m \u001b[0msquare\u001b[0m\u001b[0;34m(\u001b[0m\u001b[0;36m12\u001b[0m\u001b[0;34m)\u001b[0m\u001b[0;34m\u001b[0m\u001b[0;34m\u001b[0m\u001b[0m\n\u001b[1;32m      5\u001b[0m \u001b[0mprint\u001b[0m\u001b[0;34m(\u001b[0m\u001b[0ms\u001b[0m\u001b[0;34m.\u001b[0m\u001b[0mcalcArea\u001b[0m\u001b[0;34m(\u001b[0m\u001b[0;34m)\u001b[0m\u001b[0;34m)\u001b[0m\u001b[0;34m\u001b[0m\u001b[0;34m\u001b[0m\u001b[0m\n",
      "\u001b[0;31mTypeError\u001b[0m: Can't instantiate abstract class circle with abstract methods calcArea"
     ]
    }
   ],
   "source": [
    "c = circle(10)\n",
    "print(c.calcArea())\n",
    "\n",
    "s = square(12)\n",
    "print(s.calcArea())"
   ]
  },
  {
   "cell_type": "code",
   "execution_count": 33,
   "id": "94c8f591",
   "metadata": {},
   "outputs": [],
   "source": [
    "# with abstract class\n",
    "\n",
    "from abc import ABC, abstractmethod\n",
    "\n",
    "class graphic_shape(ABC):  # ABC stands for abstract base class\n",
    "    def __init__(self):\n",
    "        super().__init__()\n",
    "    \n",
    "    @abstractmethod  # we use @abstractmethod decorator to indicate that the calcArea function is an abstract method. \n",
    "    # this tell Python that there is no implementation in the base class and each subclass has to override this method. \n",
    "    def calcArea(self):\n",
    "        pass\n",
    "    \n",
    "class circle(graphic_shape):\n",
    "    def __init__(self, radius):\n",
    "        self.radius = radius\n",
    "        \n",
    "    def calcArea(self):\n",
    "        return 3.14 * (self.radius ** 2)\n",
    "        \n",
    "class square(graphic_shape):\n",
    "    def __init__(self, side):\n",
    "        self.side = side\n",
    "        \n",
    "    def calcArea(self):\n",
    "        return self.side * self.side\n"
   ]
  },
  {
   "cell_type": "code",
   "execution_count": 34,
   "id": "5e8a9ccb",
   "metadata": {},
   "outputs": [
    {
     "name": "stdout",
     "output_type": "stream",
     "text": [
      "314.0\n",
      "144\n"
     ]
    }
   ],
   "source": [
    "#g = graphic_shape()\n",
    "\n",
    "c = circle(10)\n",
    "print(c.calcArea())\n",
    "\n",
    "s = square(12)\n",
    "print(s.calcArea())"
   ]
  },
  {
   "cell_type": "markdown",
   "id": "55842465",
   "metadata": {},
   "source": [
    "### Using multiple inheritance\n",
    "\n",
    "Python lets you inherit from more than one base class. This is called multiple inheritence."
   ]
  },
  {
   "cell_type": "code",
   "execution_count": 35,
   "id": "d2ef481c",
   "metadata": {},
   "outputs": [],
   "source": [
    "class A:\n",
    "    def __init__(self):\n",
    "        super().__init__()\n",
    "        self.foo = 'foo'\n",
    "        \n",
    "class B:\n",
    "    def __init__(self):\n",
    "        super().__init__()\n",
    "        self.bar = 'bar'\n",
    "        \n",
    "class C(A, B):               # inherting from more than one classes\n",
    "    def __init__(self):\n",
    "        super().__init__()\n",
    "        \n",
    "    def showprops(self):\n",
    "        print(self.foo)\n",
    "        print(self.bar)\n"
   ]
  },
  {
   "cell_type": "code",
   "execution_count": 36,
   "id": "c3609d5f",
   "metadata": {},
   "outputs": [],
   "source": [
    "c = C()"
   ]
  },
  {
   "cell_type": "code",
   "execution_count": 37,
   "id": "2d445582",
   "metadata": {},
   "outputs": [
    {
     "name": "stdout",
     "output_type": "stream",
     "text": [
      "foo\n",
      "bar\n"
     ]
    }
   ],
   "source": [
    "c.showprops()"
   ]
  },
  {
   "cell_type": "markdown",
   "id": "ed72660e",
   "metadata": {},
   "source": [
    "#### What happens when each of the two superclasses define the same attribute?\n",
    "\n",
    "When you call a method or access an attribute in Python, the Python interpreter uses something called the __method resolution order__ to look it up in the class.\n",
    "\n",
    "The lookup starts in the current class. In following case, Class C which doesn't define the name attribute. So then Python looks into super classes in the order in which they are defined from left to right. Since class A is on the left, that's why we are looking at class A string in the output. If we change the order i.e. class B on the left, we will see class B string in the output.\n",
    "\n",
    "__You can actually inspect the method resolution order by looking at a special class attribute called mro.__"
   ]
  },
  {
   "cell_type": "code",
   "execution_count": 38,
   "id": "af8f97b5",
   "metadata": {},
   "outputs": [],
   "source": [
    "class A:\n",
    "    def __init__(self):\n",
    "        super().__init__()\n",
    "        self.foo = 'foo'\n",
    "        self.name = 'Class A'\n",
    "        \n",
    "class B:\n",
    "    def __init__(self):\n",
    "        super().__init__()\n",
    "        self.bar = 'bar'\n",
    "        self.name = 'Class B'\n",
    "        \n",
    "class C(A, B):               # inherting from more than one classes\n",
    "    def __init__(self):\n",
    "        super().__init__()\n",
    "        \n",
    "    def showprops(self):\n",
    "        print(self.foo)\n",
    "        print(self.bar)\n",
    "        print(self.name)\n"
   ]
  },
  {
   "cell_type": "code",
   "execution_count": 39,
   "id": "1d708313",
   "metadata": {},
   "outputs": [],
   "source": [
    "c = C()"
   ]
  },
  {
   "cell_type": "code",
   "execution_count": 40,
   "id": "32574281",
   "metadata": {},
   "outputs": [
    {
     "name": "stdout",
     "output_type": "stream",
     "text": [
      "foo\n",
      "bar\n",
      "Class A\n"
     ]
    }
   ],
   "source": [
    "c.showprops()"
   ]
  },
  {
   "cell_type": "code",
   "execution_count": 41,
   "id": "d43daa22",
   "metadata": {},
   "outputs": [
    {
     "name": "stdout",
     "output_type": "stream",
     "text": [
      "the method resoultion order is give below \n",
      " (<class '__main__.C'>, <class '__main__.A'>, <class '__main__.B'>, <class 'object'>)\n"
     ]
    }
   ],
   "source": [
    "print('the method resoultion order is give below \\n', C.__mro__)"
   ]
  },
  {
   "cell_type": "markdown",
   "id": "50ee99a3",
   "metadata": {},
   "source": [
    "## Interfaces\n",
    "\n",
    "interfaces is a combination of multiple inheritence and abstract base classes. You can think of an interface as a kind of promise. By implementing an interface, a particular class makes a promise or a contract to provide a certain kind of behavior or capability. "
   ]
  },
  {
   "cell_type": "code",
   "execution_count": 42,
   "id": "1a7abe6e",
   "metadata": {},
   "outputs": [],
   "source": [
    "# suppose we want our concrete shape object to represented as JSON. \n",
    "# Create another abstract base class\n",
    "\n",
    "from abc import ABC, abstractmethod\n",
    "\n",
    "\n",
    "class jsonify(ABC):\n",
    "    \n",
    "    # this method does not provide any implementation itself. it just defines the name of the method.\n",
    "    @abstractmethod\n",
    "    def toJSON(self):\n",
    "        pass\n",
    "\n",
    "class GraphicShape(ABC):\n",
    "    def __init__(self):\n",
    "        super().__init__()\n",
    "        \n",
    "    @abstractmethod\n",
    "    def calcArea(self):\n",
    "        pass\n",
    "    \n",
    "class Circle(GraphicShape, jsonify):\n",
    "    def __init__(self, radius):\n",
    "        self.radius = radius\n",
    "        \n",
    "    def calcArea(self):\n",
    "        return 3.14 * (self.radius ** 2)\n",
    "    \n",
    "    def toJSON(self):\n",
    "        return f\"{{\\\"Circle\\\" : {str(self.calcArea())}}}\"\n",
    "    \n"
   ]
  },
  {
   "cell_type": "code",
   "execution_count": 43,
   "id": "a895241c",
   "metadata": {},
   "outputs": [
    {
     "name": "stdout",
     "output_type": "stream",
     "text": [
      "314.0\n",
      "{\"Circle\" : 314.0}\n"
     ]
    }
   ],
   "source": [
    "c = Circle(10)\n",
    "print(c.calcArea())\n",
    "print(c.toJSON())"
   ]
  },
  {
   "cell_type": "markdown",
   "id": "fd1c9a84",
   "metadata": {},
   "source": [
    "## Understanding Composition\n",
    "\n",
    "<img src=\"oop2.png\" width=600 height=600 />\n",
    "\n",
    "when using composition, we build objects out of other objects and this model is more of a __has__ realtionship. The diagram on the right, book object __has__ an author object which contains information about the author. Rather than defining all the author related information, directly within the book class hierarchy. \n",
    "\n",
    "This type of model lets us extract distinct ideas, and put them into their own classes. "
   ]
  },
  {
   "cell_type": "code",
   "execution_count": 44,
   "id": "b4c87fa6",
   "metadata": {},
   "outputs": [],
   "source": [
    "class book:\n",
    "    def __init__(self, title, price, authorfname, authorlname):\n",
    "        self.title = title\n",
    "        self.price = price\n",
    "        self.authorfname = authorfname\n",
    "        self.authorlname = authorlname\n",
    "        \n",
    "        self.chapters = []\n",
    "        \n",
    "    def addchapter(self, name, pages):\n",
    "        self.chapters.append((name, pages))"
   ]
  },
  {
   "cell_type": "code",
   "execution_count": 45,
   "id": "490b1577",
   "metadata": {},
   "outputs": [
    {
     "name": "stdout",
     "output_type": "stream",
     "text": [
      "war and peace\n"
     ]
    }
   ],
   "source": [
    "b1 = book('war and peace', 39.0, 'leo', 'tolstoy')\n",
    "\n",
    "b1.addchapter('chapter 1', 125)\n",
    "b1.addchapter('chapter 2', 97)\n",
    "b1.addchapter('chapter 3', 143)\n",
    "\n",
    "print(b1.title)"
   ]
  },
  {
   "cell_type": "code",
   "execution_count": 46,
   "id": "23c62f92",
   "metadata": {},
   "outputs": [],
   "source": [
    "# we will extract author and chapter information into book class\n",
    "\n",
    "class book:\n",
    "    def __init__(self, title, price, author = None):\n",
    "        self.title = title\n",
    "        self.price = price\n",
    "        self.author = author\n",
    "        self.chapters = []\n",
    "        \n",
    "    def addchapter(self, chapter):\n",
    "        self.chapters.append(chapter)\n",
    "        \n",
    "    def getbookpagecount(self):\n",
    "        result = 0\n",
    "        for ch in self.chapters:\n",
    "            result += ch.pagecount\n",
    "        return result\n",
    "        \n",
    "class Author:\n",
    "    def __init__(self, fname, lname):\n",
    "        self.fname = fname\n",
    "        self.lname = lname\n",
    "        \n",
    "    def __str__(self):\n",
    "        return f\"{self.fname} {self.lname}\"\n",
    "    \n",
    "class chapter:\n",
    "    def __init__(self, name, pagecount):\n",
    "        self.name = name\n",
    "        self.pagecount = pagecount"
   ]
  },
  {
   "cell_type": "code",
   "execution_count": 47,
   "id": "22968805",
   "metadata": {},
   "outputs": [
    {
     "name": "stdout",
     "output_type": "stream",
     "text": [
      "war and peace\n",
      "leo tolstoy\n",
      "365\n"
     ]
    }
   ],
   "source": [
    "author = Author('leo', 'tolstoy')\n",
    "b1 = book('war and peace', 39.0, author)\n",
    "\n",
    "b1.addchapter(chapter('chapter 1', 125))\n",
    "b1.addchapter(chapter('chapter 2', 97))\n",
    "b1.addchapter(chapter('chapter 3', 143))\n",
    "\n",
    "print(b1.title)\n",
    "print(b1.author)\n",
    "print(b1.getbookpagecount())"
   ]
  },
  {
   "cell_type": "markdown",
   "id": "2fe829a1",
   "metadata": {},
   "source": [
    "## Magic methods\n",
    "\n",
    "Magic methods are set of methods that python automatically associate with every class definition. Your classes can override these methods to customize a variety of behavior and make them act just like Python's built in classes."
   ]
  },
  {
   "cell_type": "markdown",
   "id": "c852ddf0",
   "metadata": {},
   "source": [
    "### String and repr representation \n",
    "\n",
    "The str function is used to provide a user friendly string description of the object and is usually intended to be displayed to user.\n",
    "\n",
    "The repr function is used to generate a more developed facing string that ideally can be used to recreate the object in its current state. it's commonly used for debugging purposes. So it gets used to display a lot of information.\n"
   ]
  },
  {
   "cell_type": "markdown",
   "id": "4dd3b97d",
   "metadata": {},
   "source": [
    "__before applying str and repr function__"
   ]
  },
  {
   "cell_type": "code",
   "execution_count": 48,
   "id": "7d54f3e3",
   "metadata": {},
   "outputs": [],
   "source": [
    "class Book:\n",
    "    def __init__(self, title, author, price):\n",
    "        super().__init__()\n",
    "        self.title = title\n",
    "        self.author = author\n",
    "        self.price = price"
   ]
  },
  {
   "cell_type": "code",
   "execution_count": 49,
   "id": "6d41cf27",
   "metadata": {},
   "outputs": [],
   "source": [
    "b1 = Book('war and peace', 'LT', 39.95)\n",
    "b2 = Book('the catcher', 'JD', 29.95)"
   ]
  },
  {
   "cell_type": "code",
   "execution_count": 50,
   "id": "1c732960",
   "metadata": {},
   "outputs": [
    {
     "name": "stdout",
     "output_type": "stream",
     "text": [
      "<__main__.Book object at 0x7fdd18f4ee80>\n",
      "<__main__.Book object at 0x7fdd18f4e2e0>\n"
     ]
    }
   ],
   "source": [
    "print(b1)\n",
    "print(b2)"
   ]
  },
  {
   "cell_type": "markdown",
   "id": "009b41ba",
   "metadata": {},
   "source": [
    "__after applying str and repr function__"
   ]
  },
  {
   "cell_type": "code",
   "execution_count": 51,
   "id": "e5678591",
   "metadata": {},
   "outputs": [],
   "source": [
    "class Book:\n",
    "    def __init__(self, title, author, price):\n",
    "        super().__init__()\n",
    "        self.title = title\n",
    "        self.author = author\n",
    "        self.price = price\n",
    "        \n",
    "    # str function        \n",
    "    def __str__(self):\n",
    "        return f\"{self.title} by {self.author}, costs {self.price}\"\n",
    "    \n",
    "    # repr function\n",
    "    def __repr__(self):\n",
    "        return f\"title = {self.title}, author = {self.author}, price = {self.price}\""
   ]
  },
  {
   "cell_type": "code",
   "execution_count": 52,
   "id": "50385e4b",
   "metadata": {},
   "outputs": [
    {
     "name": "stdout",
     "output_type": "stream",
     "text": [
      "war and peace by LT, costs 39.95\n",
      "title = the catcher, author = JD, price = 29.95\n"
     ]
    }
   ],
   "source": [
    "b1 = Book('war and peace', 'LT', 39.95)\n",
    "b2 = Book('the catcher', 'JD', 29.95)\n",
    "\n",
    "print(str(b1))\n",
    "print(repr(b2))"
   ]
  },
  {
   "cell_type": "code",
   "execution_count": 53,
   "id": "8b7e57df",
   "metadata": {},
   "outputs": [
    {
     "name": "stdout",
     "output_type": "stream",
     "text": [
      "war and peace by LT, costs 39.95\n",
      "the catcher by JD, costs 29.95\n"
     ]
    }
   ],
   "source": [
    "print(b1)\n",
    "print(b2)"
   ]
  },
  {
   "cell_type": "markdown",
   "id": "3d681163",
   "metadata": {},
   "source": [
    "### Equality and comparison magic method\n",
    "\n",
    "Plain objects in python, by default, don't know how to compare themselves to each other but we can teach them to do so using equality and comparison magic methods."
   ]
  },
  {
   "cell_type": "code",
   "execution_count": 54,
   "id": "8e6728e9",
   "metadata": {},
   "outputs": [],
   "source": [
    "class Book:\n",
    "    def __init__(self, title, author, price):\n",
    "        super().__init__()\n",
    "        self.title = title\n",
    "        self.author = author\n",
    "        self.price = price\n",
    "        \n",
    "    # the magic method __eq__ checks for equality between two objects\n",
    "    def __eq__(self, value):     # value indicates the object with which we are comparing\n",
    "        if not isinstance(value, Book):\n",
    "            raise ValueError('can\\'t compare book to a non-book' )\n",
    "        \n",
    "        return (self.title == value.title and \n",
    "                self.author == value.author and \n",
    "                self.price == value.price)\n",
    "    \n",
    "    # the __ge__ (greater than or equal to) establishes >= relationship with another obj\n",
    "    def __ge__(self, value):\n",
    "        if not isinstance(value, Book):\n",
    "            raise ValueError(\"can't compare book to a non-book\")\n",
    "            \n",
    "        return self.price >= value.price\n",
    "    \n",
    "    \n",
    "    # the __lt__ (less than) establishes < relationship with another obj\n",
    "    def __lt__(self, value):\n",
    "        if not isinstance(value, Book):\n",
    "            raise ValueError(\"can't compare book to a non-book\")\n",
    "\n",
    "        return self.price < value.price"
   ]
  },
  {
   "cell_type": "code",
   "execution_count": 55,
   "id": "dc759f1b",
   "metadata": {},
   "outputs": [],
   "source": [
    "b1 = Book('war and peace', 'LT', 39.95)\n",
    "b2 = Book('the catcher', 'JD', 29.95)\n",
    "b3 = Book('war and peace', 'LT', 39.95)\n",
    "b4 = Book('To kill a mocking bird', 'HL', 24.95)"
   ]
  },
  {
   "cell_type": "code",
   "execution_count": 70,
   "id": "b89768e4",
   "metadata": {},
   "outputs": [
    {
     "name": "stdout",
     "output_type": "stream",
     "text": [
      "False\n",
      "False\n"
     ]
    }
   ],
   "source": [
    "print(b1 == b3)\n",
    "print(b1 == b2)\n",
    "#print(b1 == 42)"
   ]
  },
  {
   "cell_type": "code",
   "execution_count": 57,
   "id": "6bb4c93f",
   "metadata": {},
   "outputs": [
    {
     "name": "stdout",
     "output_type": "stream",
     "text": [
      "False\n",
      "True\n"
     ]
    }
   ],
   "source": [
    "print(b2 >= b1)\n",
    "print(b2 < b1)"
   ]
  },
  {
   "cell_type": "code",
   "execution_count": 58,
   "id": "b49b0c0a",
   "metadata": {},
   "outputs": [
    {
     "name": "stdout",
     "output_type": "stream",
     "text": [
      "['To kill a mocking bird', 'the catcher', 'war and peace', 'war and peace']\n"
     ]
    }
   ],
   "source": [
    "books = [b1, b2, b3, b4]\n",
    "books.sort()\n",
    "print([book.title for book in books])"
   ]
  },
  {
   "cell_type": "markdown",
   "id": "15ed675b",
   "metadata": {},
   "source": [
    "### Attribute access\n",
    "\n",
    "Python lets us define a magic method called __getattribute__ which is called whenever the value of an attribute is accessed. We can override this function."
   ]
  },
  {
   "cell_type": "code",
   "execution_count": 59,
   "id": "17ff0df1",
   "metadata": {},
   "outputs": [],
   "source": [
    "class Book:\n",
    "    def __init__(self, title, author, price):\n",
    "        super().__init__()\n",
    "        self.title = title\n",
    "        self.author = author\n",
    "        self.price = price\n",
    "        self._discount = 0.1\n",
    "        \n",
    "    # str function        \n",
    "    def __str__(self):\n",
    "        return f\"{self.title} by {self.author}, costs {self.price}\"\n",
    "    \n",
    "    # __getattribute__ called when an attr is retrieved.\n",
    "#     def __getattribute__(self, name):\n",
    "#         if name == 'price':\n",
    "#             p = super().__getattribute__('price')\n",
    "#             d = super().__getattribute__('_discount')\n",
    "#             return p - (p * d)\n",
    "#         return super().__getattribute__(name)\n",
    "    \n",
    "    # __setattr__ called when an attribute value is set.\n",
    "    def __setattr__(self, name, value):\n",
    "        if name == 'price':\n",
    "            if type(value) is not float:\n",
    "                raise ValueError(\"The price attr must be a float\")\n",
    "                \n",
    "        return super().__setattr__(name, value)\n",
    "    \n",
    "    #__getattr__ called when __getattribute__ lookup fails.\n",
    "    def __getattr__(self, name):\n",
    "        return name + \" is not here\""
   ]
  },
  {
   "cell_type": "code",
   "execution_count": 60,
   "id": "d9bc8c3e",
   "metadata": {},
   "outputs": [],
   "source": [
    "b1 = Book('war and peace', 'LT', 39.95)\n",
    "b2 = Book('the catcher', 'JD', 29.95)\n",
    "b3 = Book('war and peace', 'LT', 39.95)\n",
    "b4 = Book('To kill a mocking bird', 'HL', 24.95)"
   ]
  },
  {
   "cell_type": "code",
   "execution_count": 61,
   "id": "67c94cec",
   "metadata": {},
   "outputs": [],
   "source": [
    "b1.price = 38.95"
   ]
  },
  {
   "cell_type": "code",
   "execution_count": 62,
   "id": "c0d5b334",
   "metadata": {},
   "outputs": [
    {
     "name": "stdout",
     "output_type": "stream",
     "text": [
      "war and peace by LT, costs 38.95\n"
     ]
    }
   ],
   "source": [
    "print(b1)"
   ]
  },
  {
   "cell_type": "code",
   "execution_count": 63,
   "id": "5f665734",
   "metadata": {},
   "outputs": [],
   "source": [
    "b2.price = 40."
   ]
  },
  {
   "cell_type": "code",
   "execution_count": 64,
   "id": "83aca83f",
   "metadata": {},
   "outputs": [
    {
     "data": {
      "text/plain": [
       "'randomprop is not here'"
      ]
     },
     "execution_count": 64,
     "metadata": {},
     "output_type": "execute_result"
    }
   ],
   "source": [
    "b1.randomprop"
   ]
  },
  {
   "cell_type": "markdown",
   "id": "5cdd2135",
   "metadata": {},
   "source": [
    "### Callable objects\n",
    "\n",
    "It enables python objects, instance of a class, to be call able just like any other function."
   ]
  },
  {
   "cell_type": "code",
   "execution_count": 65,
   "id": "284e353e",
   "metadata": {},
   "outputs": [],
   "source": [
    "class Book:\n",
    "    def __init__(self, title, author, price):\n",
    "        super().__init__()\n",
    "        self.title = title\n",
    "        self.author = author\n",
    "        self.price = price\n",
    "        \n",
    "    # str function        \n",
    "    def __str__(self):\n",
    "        return f\"{self.title} by {self.author}, costs {self.price}\"\n",
    "    \n",
    "    # call method\n",
    "    def __call__(self, title, author, price ):\n",
    "        self.title = title\n",
    "        self.author = author\n",
    "        self.price = price"
   ]
  },
  {
   "cell_type": "code",
   "execution_count": 66,
   "id": "b7471d49",
   "metadata": {},
   "outputs": [],
   "source": [
    "b1 = Book('war and peace', 'LT', 39.95)\n",
    "b2 = Book('the catcher', 'JD', 29.95)\n",
    "b3 = Book('war and peace', 'LT', 39.95)\n",
    "b4 = Book('To kill a mocking bird', 'HL', 24.95)"
   ]
  },
  {
   "cell_type": "code",
   "execution_count": 67,
   "id": "553a07f6",
   "metadata": {},
   "outputs": [
    {
     "name": "stdout",
     "output_type": "stream",
     "text": [
      "war and peace by LT, costs 39.95\n",
      "Anna by AB, costs 20.0\n"
     ]
    }
   ],
   "source": [
    "print(b1)\n",
    "b1('Anna', 'AB', 20.0)\n",
    "print(b1)"
   ]
  },
  {
   "cell_type": "markdown",
   "id": "aad41d68",
   "metadata": {},
   "source": [
    "## Classes & Subclasses in Python\n",
    "\n",
    "### Medium article"
   ]
  },
  {
   "cell_type": "markdown",
   "id": "6c3d18ee",
   "metadata": {},
   "source": [
    "A simple class:\n",
    "\n",
    "Let’s start with a simple or basic class and go from there…\n",
    "\n",
    "An __init__ method that runs upon instance creation, add an attribute and a simple method query() that returns that attribute, the common class if you will. Getting a bit ahead of ourselves: Here cube is in itself a subclass of object, which gives you access to object methods, but you could also write it as class cube(): or even class cube: and it would still work."
   ]
  },
  {
   "cell_type": "code",
   "execution_count": 68,
   "id": "28908d4d",
   "metadata": {},
   "outputs": [
    {
     "name": "stdout",
     "output_type": "stream",
     "text": [
      "I am a cube, my name is: BOB\n"
     ]
    }
   ],
   "source": [
    "class cube(object):\n",
    "    \"\"\"This class makes cubes\"\"\"\n",
    "    # __init__ runs when a new cube is made\n",
    "    def __init__(self, name):\n",
    "        self.name = name\n",
    "    # custom method (a function) that \n",
    "    # simply returns the name variable\n",
    "    def query(self):\n",
    "        return('I am a cube, my name is: ' + self.name)# make  2 cubes:\n",
    "\n",
    "cube1 = cube('BOB')\n",
    "cube2 = cube('SUE')# Query 2 cubes:\n",
    "print(cube1.query())   "
   ]
  },
  {
   "cell_type": "markdown",
   "id": "a8c5bf7d",
   "metadata": {},
   "source": [
    "<img src=\"oop3.png\" width=600 height=600 />\n",
    "\n",
    "\n",
    "Subclass\n",
    "\n",
    "A subclass ( or derived class ) like the name implies extends the base class; you use the parent class as a template, and you add something else creating a new template, let’s add some color to our cubes with a new colorCube that inherits from cube."
   ]
  },
  {
   "cell_type": "markdown",
   "id": "f5e553ce",
   "metadata": {},
   "source": [
    "<img src=\"oop4.png\" width=600 height=600 />"
   ]
  },
  {
   "cell_type": "code",
   "execution_count": 69,
   "id": "fe6acbc6",
   "metadata": {},
   "outputs": [
    {
     "name": "stdout",
     "output_type": "stream",
     "text": [
      "I am a cube, my name is: BOB my color is: RED\n"
     ]
    }
   ],
   "source": [
    "import random\n",
    "# we use random.choice to pick one of a few colors at random\n",
    "\n",
    "class cube(object):\n",
    "    def __init__(self, name):\n",
    "        self.name = name\n",
    "    def query(self):\n",
    "        return('I am a cube, my name is: ' + self.name)\n",
    "class colorCube(cube):\n",
    "    # Add color attribute, note we also call the parents init \n",
    "    # method\n",
    "    def __init__(self,name):\n",
    "        self.color = random.choice(['BLUE', 'RED', 'PURPLE'])\n",
    "        super().__init__(name)\n",
    "    # Call the parent's query method and add new behavior\n",
    "    def query(self):\n",
    "        return super().query() + (' my color is: ' + self.color)\n",
    "\n",
    "colorCube1 = colorCube('BOB')\n",
    "colorCube2 = colorCube('SUE')\n",
    "\n",
    "print(colorCube1.query())"
   ]
  },
  {
   "cell_type": "markdown",
   "id": "55747da4",
   "metadata": {},
   "source": [
    "for remaining article see following hyperlink\n",
    "\n",
    "https://medium.com/swlh/classes-subclasses-in-python-12b6013d9f3"
   ]
  },
  {
   "cell_type": "markdown",
   "id": "9c34b2df",
   "metadata": {},
   "source": [
    "## For more discussion about super method\n",
    "\n",
    "https://stackoverflow.com/questions/222877/what-does-super-do-in-python-difference-between-super-init-and-expl"
   ]
  },
  {
   "cell_type": "markdown",
   "id": "9e088710",
   "metadata": {},
   "source": [
    "<img src=\"oop12.png\" width=600 height=600 />\n",
    "<img src=\"oop13.png\" width=600 height=600 />\n",
    "<img src=\"oop14.png\" width=600 height=600 />\n",
    "<img src=\"oop15.png\" width=600 height=600 />\n",
    "<img src=\"oop16.png\" width=600 height=600 />"
   ]
  }
 ],
 "metadata": {
  "kernelspec": {
   "display_name": "Python 3",
   "language": "python",
   "name": "python3"
  },
  "language_info": {
   "codemirror_mode": {
    "name": "ipython",
    "version": 3
   },
   "file_extension": ".py",
   "mimetype": "text/x-python",
   "name": "python",
   "nbconvert_exporter": "python",
   "pygments_lexer": "ipython3",
   "version": "3.8.8"
  }
 },
 "nbformat": 4,
 "nbformat_minor": 5
}
